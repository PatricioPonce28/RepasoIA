{
 "cells": [
  {
   "cell_type": "code",
   "execution_count": 27,
   "id": "97a95628",
   "metadata": {},
   "outputs": [
    {
     "name": "stdout",
     "output_type": "stream",
     "text": [
      "1.6.1\n"
     ]
    }
   ],
   "source": [
    "import pandas as pd\n",
    "import sklearn\n",
    "print(sklearn.__version__)"
   ]
  },
  {
   "cell_type": "code",
   "execution_count": 28,
   "id": "6862b064",
   "metadata": {},
   "outputs": [],
   "source": [
    "#Librerías\n",
    "from sklearn.model_selection import train_test_split\n",
    "from sklearn.preprocessing import OneHotEncoder, LabelEncoder\n",
    "from sklearn.ensemble import RandomForestClassifier\n",
    "from sklearn.metrics import accuracy_score"
   ]
  },
  {
   "cell_type": "code",
   "execution_count": 30,
   "id": "3836cd92",
   "metadata": {},
   "outputs": [
    {
     "name": "stdout",
     "output_type": "stream",
     "text": [
      "   ID  Edad     Genero  Ciudad  Ingresos_Mensuales  Frecuencia_Compra  \\\n",
      "0   1   NaN  Masculino  Cuenca              2946.0                  3   \n",
      "1   2   NaN        NaN     NaN              1340.0                  8   \n",
      "2   3   NaN   Femenino  Ambato              1052.0                  8   \n",
      "3   4   NaN        NaN   Quito              2321.0                  2   \n",
      "4   5  35.0        NaN   Quito              1522.0                  2   \n",
      "\n",
      "   Ultima_Compra_dias  Compra  \n",
      "0                 103       0  \n",
      "1                  72       0  \n",
      "2                 173       1  \n",
      "3                   4       0  \n",
      "4                 166       1  \n"
     ]
    }
   ],
   "source": [
    "# Cargar el archivo CSV\n",
    "df = pd.read_csv(\"clientes_preprocesamiento.csv\")\n",
    "\n",
    "# Mostrar las primeras filas del DataFrame\n",
    "print(df.head())"
   ]
  },
  {
   "cell_type": "code",
   "execution_count": 31,
   "id": "2a435539",
   "metadata": {},
   "outputs": [],
   "source": [
    "# Realizar un backup para trabajar sobre este \n",
    "df_copia = df.copy()"
   ]
  },
  {
   "cell_type": "code",
   "execution_count": 32,
   "id": "1b60241d",
   "metadata": {},
   "outputs": [
    {
     "name": "stdout",
     "output_type": "stream",
     "text": [
      "<class 'pandas.core.frame.DataFrame'>\n",
      "RangeIndex: 3000 entries, 0 to 2999\n",
      "Data columns (total 8 columns):\n",
      " #   Column              Non-Null Count  Dtype  \n",
      "---  ------              --------------  -----  \n",
      " 0   ID                  3000 non-null   int64  \n",
      " 1   Edad                1001 non-null   float64\n",
      " 2   Genero              1981 non-null   object \n",
      " 3   Ciudad              2368 non-null   object \n",
      " 4   Ingresos_Mensuales  2968 non-null   float64\n",
      " 5   Frecuencia_Compra   3000 non-null   int64  \n",
      " 6   Ultima_Compra_dias  3000 non-null   int64  \n",
      " 7   Compra              3000 non-null   int64  \n",
      "dtypes: float64(2), int64(4), object(2)\n",
      "memory usage: 187.6+ KB\n",
      "None\n",
      "   ID  Edad     Genero  Ciudad  Ingresos_Mensuales  Frecuencia_Compra  \\\n",
      "0   1   NaN  Masculino  Cuenca              2946.0                  3   \n",
      "1   2   NaN        NaN     NaN              1340.0                  8   \n",
      "2   3   NaN   Femenino  Ambato              1052.0                  8   \n",
      "3   4   NaN        NaN   Quito              2321.0                  2   \n",
      "4   5  35.0        NaN   Quito              1522.0                  2   \n",
      "\n",
      "   Ultima_Compra_dias  Compra  \n",
      "0                 103       0  \n",
      "1                  72       0  \n",
      "2                 173       1  \n",
      "3                   4       0  \n",
      "4                 166       1  \n",
      "                ID         Edad  Ingresos_Mensuales  Frecuencia_Compra  \\\n",
      "count  3000.000000  1001.000000         2968.000000        3000.000000   \n",
      "mean   1500.500000    43.079920         2672.984501           9.470333   \n",
      "std     866.169729    14.835687         1334.288038           5.817479   \n",
      "min       1.000000    18.000000          403.000000           0.000000   \n",
      "25%     750.750000    31.000000         1507.750000           4.000000   \n",
      "50%    1500.500000    43.000000         2639.500000           9.000000   \n",
      "75%    2250.250000    56.000000         3847.250000          15.000000   \n",
      "max    3000.000000    69.000000         4999.000000          19.000000   \n",
      "\n",
      "       Ultima_Compra_dias       Compra  \n",
      "count         3000.000000  3000.000000  \n",
      "mean            88.512333     0.369333  \n",
      "std             52.075565     0.482705  \n",
      "min              0.000000     0.000000  \n",
      "25%             43.000000     0.000000  \n",
      "50%             88.000000     0.000000  \n",
      "75%            133.250000     1.000000  \n",
      "max            179.000000     1.000000  \n"
     ]
    }
   ],
   "source": [
    "#Recolección y exploración de datos\n",
    "# Ver columnas y tipos de datos\n",
    "print(df_copia.info())\n",
    "\n",
    "# Ver primeros registros\n",
    "print(df_copia.head())\n",
    "\n",
    "# Estadísticas generales de columnas numéricas\n",
    "print(df_copia.describe())"
   ]
  },
  {
   "cell_type": "code",
   "execution_count": 33,
   "id": "b5f03ccc",
   "metadata": {},
   "outputs": [
    {
     "data": {
      "text/plain": [
       "ID                       0\n",
       "Edad                  1999\n",
       "Genero                1019\n",
       "Ciudad                 632\n",
       "Ingresos_Mensuales      32\n",
       "Frecuencia_Compra        0\n",
       "Ultima_Compra_dias       0\n",
       "Compra                   0\n",
       "dtype: int64"
      ]
     },
     "execution_count": 33,
     "metadata": {},
     "output_type": "execute_result"
    }
   ],
   "source": [
    "# Contabiliar el número de nulos por columna para la posterior limpieza\n",
    "df_copia.columns\n",
    "df_copia.isnull().sum()"
   ]
  },
  {
   "cell_type": "code",
   "execution_count": 34,
   "id": "dcad4dad",
   "metadata": {},
   "outputs": [
    {
     "name": "stderr",
     "output_type": "stream",
     "text": [
      "C:\\Users\\User\\AppData\\Local\\Temp\\ipykernel_13944\\2109874915.py:2: FutureWarning: Setting an item of incompatible dtype is deprecated and will raise an error in a future version of pandas. Value 'sin info' has dtype incompatible with float64, please explicitly cast to a compatible dtype first.\n",
      "  df_copia.fillna(\"sin info\", inplace=True)\n"
     ]
    },
    {
     "data": {
      "text/html": [
       "<div>\n",
       "<style scoped>\n",
       "    .dataframe tbody tr th:only-of-type {\n",
       "        vertical-align: middle;\n",
       "    }\n",
       "\n",
       "    .dataframe tbody tr th {\n",
       "        vertical-align: top;\n",
       "    }\n",
       "\n",
       "    .dataframe thead th {\n",
       "        text-align: right;\n",
       "    }\n",
       "</style>\n",
       "<table border=\"1\" class=\"dataframe\">\n",
       "  <thead>\n",
       "    <tr style=\"text-align: right;\">\n",
       "      <th></th>\n",
       "      <th>ID</th>\n",
       "      <th>Edad</th>\n",
       "      <th>Genero</th>\n",
       "      <th>Ciudad</th>\n",
       "      <th>Ingresos_Mensuales</th>\n",
       "      <th>Frecuencia_Compra</th>\n",
       "      <th>Ultima_Compra_dias</th>\n",
       "      <th>Compra</th>\n",
       "    </tr>\n",
       "  </thead>\n",
       "  <tbody>\n",
       "    <tr>\n",
       "      <th>0</th>\n",
       "      <td>1</td>\n",
       "      <td>sin info</td>\n",
       "      <td>Masculino</td>\n",
       "      <td>Cuenca</td>\n",
       "      <td>2946.0</td>\n",
       "      <td>3</td>\n",
       "      <td>103</td>\n",
       "      <td>0</td>\n",
       "    </tr>\n",
       "    <tr>\n",
       "      <th>1</th>\n",
       "      <td>2</td>\n",
       "      <td>sin info</td>\n",
       "      <td>sin info</td>\n",
       "      <td>sin info</td>\n",
       "      <td>1340.0</td>\n",
       "      <td>8</td>\n",
       "      <td>72</td>\n",
       "      <td>0</td>\n",
       "    </tr>\n",
       "    <tr>\n",
       "      <th>2</th>\n",
       "      <td>3</td>\n",
       "      <td>sin info</td>\n",
       "      <td>Femenino</td>\n",
       "      <td>Ambato</td>\n",
       "      <td>1052.0</td>\n",
       "      <td>8</td>\n",
       "      <td>173</td>\n",
       "      <td>1</td>\n",
       "    </tr>\n",
       "    <tr>\n",
       "      <th>3</th>\n",
       "      <td>4</td>\n",
       "      <td>sin info</td>\n",
       "      <td>sin info</td>\n",
       "      <td>Quito</td>\n",
       "      <td>2321.0</td>\n",
       "      <td>2</td>\n",
       "      <td>4</td>\n",
       "      <td>0</td>\n",
       "    </tr>\n",
       "    <tr>\n",
       "      <th>4</th>\n",
       "      <td>5</td>\n",
       "      <td>35.0</td>\n",
       "      <td>sin info</td>\n",
       "      <td>Quito</td>\n",
       "      <td>1522.0</td>\n",
       "      <td>2</td>\n",
       "      <td>166</td>\n",
       "      <td>1</td>\n",
       "    </tr>\n",
       "    <tr>\n",
       "      <th>...</th>\n",
       "      <td>...</td>\n",
       "      <td>...</td>\n",
       "      <td>...</td>\n",
       "      <td>...</td>\n",
       "      <td>...</td>\n",
       "      <td>...</td>\n",
       "      <td>...</td>\n",
       "      <td>...</td>\n",
       "    </tr>\n",
       "    <tr>\n",
       "      <th>2995</th>\n",
       "      <td>2996</td>\n",
       "      <td>42.0</td>\n",
       "      <td>sin info</td>\n",
       "      <td>Guayaquil</td>\n",
       "      <td>1898.0</td>\n",
       "      <td>2</td>\n",
       "      <td>168</td>\n",
       "      <td>1</td>\n",
       "    </tr>\n",
       "    <tr>\n",
       "      <th>2996</th>\n",
       "      <td>2997</td>\n",
       "      <td>sin info</td>\n",
       "      <td>sin info</td>\n",
       "      <td>Ambato</td>\n",
       "      <td>1570.0</td>\n",
       "      <td>7</td>\n",
       "      <td>21</td>\n",
       "      <td>1</td>\n",
       "    </tr>\n",
       "    <tr>\n",
       "      <th>2997</th>\n",
       "      <td>2998</td>\n",
       "      <td>sin info</td>\n",
       "      <td>sin info</td>\n",
       "      <td>Quito</td>\n",
       "      <td>3812.0</td>\n",
       "      <td>9</td>\n",
       "      <td>146</td>\n",
       "      <td>0</td>\n",
       "    </tr>\n",
       "    <tr>\n",
       "      <th>2998</th>\n",
       "      <td>2999</td>\n",
       "      <td>sin info</td>\n",
       "      <td>Masculino</td>\n",
       "      <td>Cuenca</td>\n",
       "      <td>3083.0</td>\n",
       "      <td>15</td>\n",
       "      <td>112</td>\n",
       "      <td>1</td>\n",
       "    </tr>\n",
       "    <tr>\n",
       "      <th>2999</th>\n",
       "      <td>3000</td>\n",
       "      <td>64.0</td>\n",
       "      <td>Masculino</td>\n",
       "      <td>Ambato</td>\n",
       "      <td>1335.0</td>\n",
       "      <td>7</td>\n",
       "      <td>160</td>\n",
       "      <td>0</td>\n",
       "    </tr>\n",
       "  </tbody>\n",
       "</table>\n",
       "<p>3000 rows × 8 columns</p>\n",
       "</div>"
      ],
      "text/plain": [
       "        ID      Edad     Genero     Ciudad Ingresos_Mensuales  \\\n",
       "0        1  sin info  Masculino     Cuenca             2946.0   \n",
       "1        2  sin info   sin info   sin info             1340.0   \n",
       "2        3  sin info   Femenino     Ambato             1052.0   \n",
       "3        4  sin info   sin info      Quito             2321.0   \n",
       "4        5      35.0   sin info      Quito             1522.0   \n",
       "...    ...       ...        ...        ...                ...   \n",
       "2995  2996      42.0   sin info  Guayaquil             1898.0   \n",
       "2996  2997  sin info   sin info     Ambato             1570.0   \n",
       "2997  2998  sin info   sin info      Quito             3812.0   \n",
       "2998  2999  sin info  Masculino     Cuenca             3083.0   \n",
       "2999  3000      64.0  Masculino     Ambato             1335.0   \n",
       "\n",
       "      Frecuencia_Compra  Ultima_Compra_dias  Compra  \n",
       "0                     3                 103       0  \n",
       "1                     8                  72       0  \n",
       "2                     8                 173       1  \n",
       "3                     2                   4       0  \n",
       "4                     2                 166       1  \n",
       "...                 ...                 ...     ...  \n",
       "2995                  2                 168       1  \n",
       "2996                  7                  21       1  \n",
       "2997                  9                 146       0  \n",
       "2998                 15                 112       1  \n",
       "2999                  7                 160       0  \n",
       "\n",
       "[3000 rows x 8 columns]"
      ]
     },
     "execution_count": 34,
     "metadata": {},
     "output_type": "execute_result"
    }
   ],
   "source": [
    "# Reemplazar valores nulos en todo el DataFrame\n",
    "df_copia.fillna(\"sin info\", inplace=True)\n",
    "df_copia"
   ]
  },
  {
   "cell_type": "code",
   "execution_count": 35,
   "id": "3ee221c9",
   "metadata": {},
   "outputs": [
    {
     "name": "stdout",
     "output_type": "stream",
     "text": [
      "Columns in df: Index(['ID', 'Edad', 'Genero', 'Ciudad', 'Ingresos_Mensuales',\n",
      "       'Frecuencia_Compra', 'Ultima_Compra_dias', 'Compra'],\n",
      "      dtype='object')\n",
      "Columns in ciudad_df: Index(['Ciudad_Ambato', 'Ciudad_Cuenca', 'Ciudad_Guayaquil', 'Ciudad_Quito',\n",
      "       'Ciudad_nan'],\n",
      "      dtype='object')\n",
      "Columns in df_copia: Index(['ID', 'Edad', 'Genero', 'Ciudad', 'Ingresos_Mensuales',\n",
      "       'Frecuencia_Compra', 'Ultima_Compra_dias', 'Compra', 'Ciudad_Ambato',\n",
      "       'Ciudad_Cuenca', 'Ciudad_Guayaquil', 'Ciudad_Quito', 'Ciudad_nan'],\n",
      "      dtype='object')\n"
     ]
    }
   ],
   "source": [
    "# Sample DataFrame (assuming df is already loaded)\n",
    "df_copia = df.copy()\n",
    "\n",
    "# Codificar la variable objetivo (Género)\n",
    "encoder_genero = LabelEncoder()\n",
    "df_copia[\"Genero\"] = encoder_genero.fit_transform(df[\"Genero\"])  # Femenino = 0, Masculino = 1\n",
    "\n",
    "# Codificar la variable de entrada (Ciudad) con OneHotEncoder\n",
    "encoder = OneHotEncoder(sparse_output=False)\n",
    "ciudad_encoded = encoder.fit_transform(df[[\"Ciudad\"]])\n",
    "\n",
    "# Convertir a DataFrame y unirlo con el original\n",
    "ciudad_df = pd.DataFrame(ciudad_encoded, columns=encoder.get_feature_names_out([\"Ciudad\"]))\n",
    "df_copia = pd.concat([df_copia, ciudad_df], axis=1)\n",
    "\n",
    "# Debugging: Verificar columnas\n",
    "print(\"Columns in df:\", df.columns)\n",
    "print(\"Columns in ciudad_df:\", ciudad_df.columns)\n",
    "print(\"Columns in df_copia:\", df_copia.columns)"
   ]
  },
  {
   "cell_type": "code",
   "execution_count": 36,
   "id": "575204db",
   "metadata": {},
   "outputs": [
    {
     "name": "stdout",
     "output_type": "stream",
     "text": [
      "Precisión del modelo: 0.33\n"
     ]
    }
   ],
   "source": [
    "# Definir X e Y usando df_copia en lugar de df\n",
    "X = df_copia[ciudad_df.columns]  # Todas las columnas generadas por OneHotEncoder\n",
    "Y = df_copia[\"Genero\"]  # Asegurarse de tomar la columna correctamente\n",
    "\n",
    "# Dividir datos en entrenamiento y prueba (80% - 20%)\n",
    "X_train, X_test, Y_train, Y_test = train_test_split(X, Y, test_size=0.2, random_state=42)\n",
    "\n",
    "# Inicializar modelo de clasificación\n",
    "modelo = RandomForestClassifier(n_estimators=100, random_state=42)\n",
    "modelo.fit(X_train, Y_train)\n",
    "\n",
    "# Predicción\n",
    "predicciones = modelo.predict(X_test)\n",
    "\n",
    "# Evaluar precisión\n",
    "precision = accuracy_score(Y_test, predicciones)\n",
    "print(f\"Precisión del modelo: {precision:.2f}\")"
   ]
  },
  {
   "cell_type": "code",
   "execution_count": 9,
   "id": "9c612ee3",
   "metadata": {},
   "outputs": [
    {
     "name": "stdout",
     "output_type": "stream",
     "text": [
      "Precisión del modelo: 0.54\n",
      "F1-score del modelo: 0.51\n"
     ]
    }
   ],
   "source": [
    "# Importar librerías necesarias\n",
    "from sklearn.metrics import accuracy_score, f1_score  # Agregar f1_score\n",
    "\n",
    "# Predicción con el modelo entrenado\n",
    "predicciones = modelo.predict(X_test)\n",
    "\n",
    "# Evaluar precisión (exactitud)\n",
    "precision = accuracy_score(Y_test, predicciones)\n",
    "print(f\"Precisión del modelo: {precision:.2f}\")\n",
    "\n",
    "# Evaluar el F1-score\n",
    "f1 = f1_score(Y_test, predicciones, average=\"weighted\")  # Usa \"weighted\" si hay clases desbalanceadas\n",
    "print(f\"F1-score del modelo: {f1:.2f}\")"
   ]
  },
  {
   "cell_type": "code",
   "execution_count": 14,
   "id": "fedf9a1e",
   "metadata": {},
   "outputs": [
    {
     "name": "stdout",
     "output_type": "stream",
     "text": [
      "Precisión del modelo: 0.54\n"
     ]
    },
    {
     "name": "stderr",
     "output_type": "stream",
     "text": [
      "C:\\Users\\User\\AppData\\Local\\Temp\\ipykernel_13944\\1540681417.py:36: SettingWithCopyWarning: \n",
      "A value is trying to be set on a copy of a slice from a DataFrame\n",
      "\n",
      "See the caveats in the documentation: https://pandas.pydata.org/pandas-docs/stable/user_guide/indexing.html#returning-a-view-versus-a-copy\n",
      "  X.fillna(X.mean(), inplace=True)  # Rellenar valores NaN en X con la media de cada columna\n"
     ]
    }
   ],
   "source": [
    "# REGRESION LOGÍSTICA\n",
    "\n",
    "# Importar las librerías necesarias\n",
    "from sklearn.model_selection import train_test_split  # Para dividir los datos en entrenamiento y prueba\n",
    "from sklearn.preprocessing import OneHotEncoder  # Para transformar columnas categóricas en numéricas\n",
    "from sklearn.linear_model import LogisticRegression  # Modelo de Regresión Logística\n",
    "from sklearn.metrics import accuracy_score  # Para evaluar el desempeño del modelo\n",
    "\n",
    "# Cargar los datos (asegúrate de tener el archivo correcto)\n",
    "df = pd.read_csv(\"clientes_preprocesamiento.csv\")  # Reemplaza con el nombre real de tu archivo CSV\n",
    "\n",
    "# Crear una copia del DataFrame original para trabajar sobre ella\n",
    "df_copia = df.copy()\n",
    "\n",
    "# Aplicar OneHotEncoder a la columna categórica \"Ciudad\"\n",
    "encoder = OneHotEncoder()  # Inicializar el codificador\n",
    "ciudad_encoded = encoder.fit_transform(df_copia[[\"Ciudad\"]])  # Transformar la columna categórica en numérica\n",
    "\n",
    "# Convertir la transformación a DataFrame y asignar nombres a las columnas generadas\n",
    "ciudad_df = pd.DataFrame(ciudad_encoded.toarray(), columns=encoder.get_feature_names_out([\"Ciudad\"]))\n",
    "\n",
    "# Concatenar las nuevas columnas codificadas con el DataFrame original\n",
    "df_copia = pd.concat([df_copia, ciudad_df], axis=1)  # Unir las columnas codificadas\n",
    "\n",
    "# Eliminar la columna original \"Ciudad\" (ya que fue convertida en variables numéricas)\n",
    "df_copia.drop(columns=[\"Ciudad\"], inplace=True)\n",
    "\n",
    "# **Eliminar o rellenar valores NaN**\n",
    "df_copia.dropna(inplace=True)  # Elimina filas con NaN en cualquier columna (alternativamente, podrías usar fillna)\n",
    "\n",
    "# Definir las variables predictoras (X) y la variable objetivo (Y)\n",
    "X = df_copia[ciudad_df.columns]  # Usar las columnas generadas por OneHotEncoder\n",
    "Y = df_copia[\"Genero\"]  # Variable objetivo: \"Genero\"\n",
    "\n",
    "# **Asegurar que no hay valores NaN después de la limpieza**\n",
    "X.fillna(X.mean(), inplace=True)  # Rellenar valores NaN en X con la media de cada columna\n",
    "Y.fillna(Y.mode()[0], inplace=True)  # Rellenar valores NaN en Y con la moda (valor más frecuente)\n",
    "\n",
    "# Dividir los datos en conjuntos de entrenamiento y prueba (80% entrenamiento - 20% prueba)\n",
    "X_train, X_test, Y_train, Y_test = train_test_split(X, Y, test_size=0.2, random_state=42)\n",
    "\n",
    "# Inicializar y entrenar el modelo de Regresión Logística\n",
    "modelo_logistico = LogisticRegression(random_state=42)\n",
    "modelo_logistico.fit(X_train, Y_train)  # Ajustar el modelo a los datos de entrenamiento\n",
    "\n",
    "# Realizar predicciones sobre los datos de prueba\n",
    "predicciones = modelo_logistico.predict(X_test)\n",
    "\n",
    "# Evaluar la precisión del modelo\n",
    "precision = accuracy_score(Y_test, predicciones)\n",
    "\n",
    "# Mostrar la precisión obtenida\n",
    "print(f\"Precisión del modelo: {precision:.2f}\")"
   ]
  },
  {
   "cell_type": "code",
   "execution_count": 15,
   "id": "a1f3516c",
   "metadata": {},
   "outputs": [
    {
     "name": "stdout",
     "output_type": "stream",
     "text": [
      "R² del modelo: 0.54\n"
     ]
    }
   ],
   "source": [
    "# Evaualcion de Regrecion Logística R²\n",
    "# Evaluar el modelo usando R²\n",
    "r2_score = modelo_logistico.score(X_test, Y_test)  # Calcula R² como el rendimiento del modelo en los datos de prueba\n",
    "\n",
    "# Mostrar el resultado\n",
    "print(f\"R² del modelo: {r2_score:.2f}\")"
   ]
  },
  {
   "cell_type": "code",
   "execution_count": 16,
   "id": "fd951a25",
   "metadata": {},
   "outputs": [
    {
     "name": "stdout",
     "output_type": "stream",
     "text": [
      "Precisión del modelo: 0.44\n",
      "F1-score del modelo: 0.44\n"
     ]
    }
   ],
   "source": [
    "# Importar librerías necesarias\n",
    "from sklearn.model_selection import train_test_split  # Para dividir los datos en entrenamiento y prueba\n",
    "from sklearn.preprocessing import OneHotEncoder  # Para transformar columnas categóricas en numéricas\n",
    "from sklearn.ensemble import RandomForestClassifier  # Modelo de clasificación\n",
    "from sklearn.metrics import accuracy_score, f1_score  # Para evaluar el desempeño del modelo\n",
    "\n",
    "# Cargar los datos\n",
    "df = pd.read_csv(\"clientes_preprocesamiento.csv\")  # Asegúrate de que el archivo exista\n",
    "\n",
    "# Crear una copia del DataFrame original\n",
    "df_copia = df.copy()\n",
    "\n",
    "# Aplicar OneHotEncoder a la columna categórica \"Ciudad\"\n",
    "encoder = OneHotEncoder()\n",
    "ciudad_encoded = encoder.fit_transform(df_copia[[\"Ciudad\"]])  \n",
    "\n",
    "# Convertir la transformación a DataFrame con nombres de columnas\n",
    "ciudad_df = pd.DataFrame(ciudad_encoded.toarray(), columns=encoder.get_feature_names_out([\"Ciudad\"]))\n",
    "\n",
    "# Concatenar las nuevas columnas codificadas con el DataFrame original\n",
    "df_copia = pd.concat([df_copia, ciudad_df], axis=1)\n",
    "\n",
    "# Eliminar la columna original \"Ciudad\"\n",
    "df_copia.drop(columns=[\"Ciudad\"], inplace=True)\n",
    "\n",
    "# **Eliminar o rellenar valores NaN**\n",
    "df_copia.dropna(inplace=True)  # Elimina filas con valores NaN\n",
    "\n",
    "# Definir variables predictoras (X) y variable objetivo (Y)\n",
    "X = df_copia.drop(columns=[\"Genero\"])  # Tomar todas las columnas excepto \"Genero\"\n",
    "Y = df_copia[\"Genero\"]  # Variable objetivo\n",
    "\n",
    "# Dividir datos en entrenamiento y prueba (80% - 20%)\n",
    "X_train, X_test, Y_train, Y_test = train_test_split(X, Y, test_size=0.2, random_state=42)\n",
    "\n",
    "# Inicializar modelo de Random Forest\n",
    "modelo_randomforest = RandomForestClassifier(n_estimators=100, random_state=42)\n",
    "modelo_randomforest.fit(X_train, Y_train)  # Ajustar el modelo a los datos de entrenamiento\n",
    "\n",
    "# Predicción\n",
    "predicciones = modelo_randomforest.predict(X_test)\n",
    "\n",
    "# Evaluar precisión (accuracy)\n",
    "precision = accuracy_score(Y_test, predicciones)\n",
    "print(f\"Precisión del modelo: {precision:.2f}\")\n",
    "\n",
    "# Evaluar F1-score\n",
    "f1 = f1_score(Y_test, predicciones, average=\"weighted\")  \n",
    "print(f\"F1-score del modelo: {f1:.2f}\")"
   ]
  },
  {
   "cell_type": "code",
   "execution_count": null,
   "id": "df69008a",
   "metadata": {},
   "outputs": [
    {
     "name": "stdout",
     "output_type": "stream",
     "text": [
      "F1-score Regresión Logística: 0.45\n",
      "F1-score Random Forest: 0.51\n"
     ]
    },
    {
     "data": {
      "image/png": "[encoded data removed]",
      "text/plain": [
       "<Figure size 600x500 with 2 Axes>"
      ]
     },
     "metadata": {},
     "output_type": "display_data"
    },
    {
     "data": {
      "image/png": "[encoded data removed]",
      "text/plain": [
       "<Figure size 600x500 with 1 Axes>"
      ]
     },
     "metadata": {},
     "output_type": "display_data"
    },
    {
     "data": {
      "image/png": "[encoded data removed]",
      "text/plain": [
       "<Figure size 600x500 with 1 Axes>"
      ]
     },
     "metadata": {},
     "output_type": "display_data"
    },
    {
     "data": {
      "image/png": "[encoded data removed]",
      "text/plain": [
       "<Figure size 600x500 with 2 Axes>"
      ]
     },
     "metadata": {},
     "output_type": "display_data"
    },
    {
     "data": {
      "image/png": "[encoded data removed]",
      "text/plain": [
       "<Figure size 600x500 with 1 Axes>"
      ]
     },
     "metadata": {},
     "output_type": "display_data"
    }
   ],
   "source": [
    "import pandas as pd\n",
    "import matplotlib.pyplot as plt\n",
    "import seaborn as sns\n",
    "from sklearn.model_selection import train_test_split\n",
    "from sklearn.preprocessing import OneHotEncoder, StandardScaler\n",
    "from sklearn.ensemble import RandomForestClassifier\n",
    "from sklearn.linear_model import LogisticRegression\n",
    "from sklearn.metrics import confusion_matrix, roc_curve, auc, f1_score\n",
    "\n",
    "# Cargar los datos\n",
    "df = pd.read_csv(\"clientes_preprocesamiento.csv\")  # Ajusta el nombre del archivo si es necesario\n",
    "\n",
    "# **Eliminar la columna ID**, ya que no aporta información predictiva\n",
    "df_copia = df.drop(columns=[\"ID\"])\n",
    "\n",
    "# Aplicar OneHotEncoder a la columna categórica \"Ciudad\"\n",
    "encoder = OneHotEncoder(handle_unknown=\"ignore\")\n",
    "ciudad_encoded = encoder.fit_transform(df_copia[[\"Ciudad\"]])\n",
    "ciudad_df = pd.DataFrame(ciudad_encoded.toarray(), columns=encoder.get_feature_names_out([\"Ciudad\"]))\n",
    "\n",
    "# Concatenar las nuevas columnas codificadas con el DataFrame original\n",
    "df_copia = pd.concat([df_copia, ciudad_df], axis=1)\n",
    "df_copia.drop(columns=[\"Ciudad\"], inplace=True)  # Eliminar la columna original \"Ciudad\"\n",
    "\n",
    "# **Eliminar cualquier fila con valores NaN**\n",
    "df_copia.dropna(inplace=True)\n",
    "\n",
    "# **Convertir la variable objetivo \"Genero\" a valores numéricos**\n",
    "df_copia[\"Genero\"] = df_copia[\"Genero\"].map({\"Femenino\": 0, \"Masculino\": 1})\n",
    "\n",
    "# Definir las variables predictoras (X) y la variable objetivo (Y)\n",
    "X = df_copia.drop(columns=[\"Genero\"])  # Todas las columnas excepto \"Genero\"\n",
    "Y = df_copia[\"Genero\"]  # Variable objetivo\n",
    "\n",
    "# **Dividir los datos en conjuntos de entrenamiento y prueba**\n",
    "X_train, X_test, Y_train, Y_test = train_test_split(X, Y, test_size=0.2, random_state=42)\n",
    "\n",
    "# **Estandarizar las características numéricas**\n",
    "scaler = StandardScaler()\n",
    "X_train_scaled = scaler.fit_transform(X_train)\n",
    "X_test_scaled = scaler.transform(X_test)\n",
    "\n",
    "# **Inicializar y entrenar modelos**\n",
    "modelo_logistico = LogisticRegression(random_state=42, max_iter=500)\n",
    "modelo_logistico.fit(X_train_scaled, Y_train)\n",
    "\n",
    "modelo_randomforest = RandomForestClassifier(n_estimators=100, random_state=42)\n",
    "modelo_randomforest.fit(X_train, Y_train)  # No se necesita escalado para RandomForest\n",
    "\n",
    "# **Evaluación con F1-score**\n",
    "f1_logistico = f1_score(Y_test, modelo_logistico.predict(X_test_scaled), average=\"weighted\")\n",
    "f1_randomforest = f1_score(Y_test, modelo_randomforest.predict(X_test), average=\"weighted\")\n",
    "\n",
    "print(f\"F1-score Regresión Logística: {f1_logistico:.2f}\")\n",
    "print(f\"F1-score Random Forest: {f1_randomforest:.2f}\")\n",
    "\n",
    "# **Funciones de visualización**\n",
    "def plot_confusion_matrix(model, X_test, Y_test, title):\n",
    "    \"\"\"Genera un heatmap con la matriz de confusión\"\"\"\n",
    "    cm = confusion_matrix(Y_test, model.predict(X_test))\n",
    "\n",
    "    plt.figure(figsize=(6, 5))\n",
    "    sns.heatmap(cm, annot=True, fmt=\"d\", cmap=\"Blues\", xticklabels=[\"Femenino\", \"Masculino\"], yticklabels=[\"Femenino\", \"Masculino\"])\n",
    "    plt.xlabel(\"Predicción\")\n",
    "    plt.ylabel(\"Real\")\n",
    "    plt.title(title)\n",
    "    plt.show()\n",
    "\n",
    "def plot_roc_curve(model, X_test, Y_test, title):\n",
    "    \"\"\"Genera la curva ROC\"\"\"\n",
    "    if hasattr(model, \"predict_proba\"):\n",
    "        y_prob = model.predict_proba(X_test)[:, 1]\n",
    "        fpr, tpr, _ = roc_curve(Y_test, y_prob)\n",
    "        auc_value = auc(fpr, tpr)\n",
    "\n",
    "        plt.figure(figsize=(6, 5))\n",
    "        plt.plot(fpr, tpr, color=\"blue\", lw=2, label=f\"AUC = {auc_value:.2f}\")\n",
    "        plt.plot([0, 1], [0, 1], color=\"gray\", linestyle=\"--\")  # Línea de referencia\n",
    "        plt.xlabel(\"Falso Positivo (FPR)\")\n",
    "        plt.ylabel(\"Verdadero Positivo (TPR)\")\n",
    "        plt.title(title)\n",
    "        plt.legend(loc=\"lower right\")\n",
    "        plt.show()\n",
    "    else:\n",
    "        print(f\"El modelo {title} no admite predict_proba(), no se puede calcular la curva ROC.\")\n",
    "\n",
    "def plot_real_vs_predicted(model, X_test, Y_test, title):\n",
    "    \"\"\"Genera un gráfico de dispersión entre valores reales y predichos\"\"\"\n",
    "    y_pred = model.predict(X_test)\n",
    "    \n",
    "    plt.figure(figsize=(6, 5))\n",
    "    plt.scatter(Y_test, y_pred, alpha=0.6, c=\"blue\", label=\"Predicciones\")\n",
    "    plt.plot(Y_test, Y_test, color=\"red\", linestyle=\"--\", label=\"Real (Referencia)\")\n",
    "    plt.xlabel(\"Valor Real\")\n",
    "    plt.ylabel(\"Valor Predicho\")\n",
    "    plt.title(title)\n",
    "    plt.legend()\n",
    "    plt.show()\n",
    "\n",
    "# **Graficar resultados**\n",
    "plot_confusion_matrix(modelo_logistico, X_test_scaled, Y_test, \"Matriz de Confusión - Regresión Logística\")\n",
    "plot_roc_curve(modelo_logistico, X_test_scaled, Y_test, \"Curva ROC - Regresión Logística\")\n",
    "plot_real_vs_predicted(modelo_logistico, X_test_scaled, Y_test, \"Valores Reales vs Predichos - Regresión Logística\")\n",
    "\n",
    "plot_confusion_matrix(modelo_randomforest, X_test, Y_test, \"Matriz de Confusión - RandomForest\")\n",
    "plot_roc_curve(modelo_randomforest, X_test, Y_test, \"Curva ROC - RandomForest\")"
   ]
  },
  {
   "cell_type": "code",
   "execution_count": 23,
   "id": "8751bb33",
   "metadata": {},
   "outputs": [
    {
     "name": "stdout",
     "output_type": "stream",
     "text": [
      "Modelos guardados exitosamente.\n"
     ]
    }
   ],
   "source": [
    "import joblib\n",
    "\n",
    "# Guardar el modelo de Regresión Logística\n",
    "joblib.dump(modelo_logistico, \"modelo_logistico.pkl\")\n",
    "\n",
    "# Guardar el modelo de Random Forest\n",
    "joblib.dump(modelo_randomforest, \"modelo_randomforest.pkl\")\n",
    "\n",
    "print(\"Modelos guardados exitosamente.\")"
   ]
  },
  {
   "cell_type": "code",
   "execution_count": 24,
   "id": "17168f50",
   "metadata": {},
   "outputs": [
    {
     "name": "stdout",
     "output_type": "stream",
     "text": [
      "Modelos cargados correctamente.\n"
     ]
    }
   ],
   "source": [
    "# Cargar el modelo de Regresión Logística\n",
    "modelo_logistico_cargado = joblib.load(\"modelo_logistico.pkl\")\n",
    "\n",
    "# Cargar el modelo de Random Forest\n",
    "modelo_randomforest_cargado = joblib.load(\"modelo_randomforest.pkl\")\n",
    "\n",
    "print(\"Modelos cargados correctamente.\")"
   ]
  },
  {
   "cell_type": "code",
   "execution_count": null,
   "id": "3b77ba34",
   "metadata": {},
   "outputs": [],
   "source": [
    "# Correcciones necesarias para el deploy "
   ]
  },
  {
   "cell_type": "code",
   "execution_count": 25,
   "id": "0d75f052",
   "metadata": {},
   "outputs": [
    {
     "name": "stdout",
     "output_type": "stream",
     "text": [
      "Random Forest Accuracy: 0.43119266055045874\n",
      "Logistic Regression Accuracy: 0.44954128440366975\n"
     ]
    },
    {
     "data": {
      "text/plain": [
       "['modelo_logistico.pkl']"
      ]
     },
     "execution_count": 25,
     "metadata": {},
     "output_type": "execute_result"
    }
   ],
   "source": [
    "import pandas as pd\n",
    "from sklearn.model_selection import train_test_split\n",
    "from sklearn.ensemble import RandomForestClassifier\n",
    "from sklearn.linear_model import LogisticRegression\n",
    "from sklearn.metrics import accuracy_score, f1_score\n",
    "import joblib\n",
    "\n",
    "# Cargar datos\n",
    "df = pd.read_csv(\"clientes_preprocesamiento.csv\")\n",
    "\n",
    "# Preprocesamiento: eliminar filas con NaN\n",
    "df.dropna(inplace=True)\n",
    "\n",
    "# Asegurarse de que estas tres columnas existan\n",
    "columnas_necesarias = [\"Ingresos_Mensuales\", \"Frecuencia_Compra\", \"Ultima_Compra_dias\", \"Genero\"]\n",
    "df = df[columnas_necesarias]\n",
    "\n",
    "# Convertir la columna \"Genero\" a binaria si es texto\n",
    "if df[\"Genero\"].dtype == \"object\":\n",
    "    df[\"Genero\"] = df[\"Genero\"].map({\"Femenino\": 0, \"Masculino\": 1})\n",
    "\n",
    "# Variables predictoras y objetivo\n",
    "X = df.drop(columns=[\"Genero\"])\n",
    "Y = df[\"Genero\"]\n",
    "\n",
    "# División de datos\n",
    "X_train, X_test, Y_train, Y_test = train_test_split(X, Y, test_size=0.2, random_state=42)\n",
    "\n",
    "# Entrenar modelos\n",
    "modelo_rf = RandomForestClassifier(n_estimators=100, random_state=42)\n",
    "modelo_rf.fit(X_train, Y_train)\n",
    "\n",
    "modelo_log = LogisticRegression(max_iter=500)\n",
    "modelo_log.fit(X_train, Y_train)\n",
    "\n",
    "# Evaluación\n",
    "print(\"Random Forest Accuracy:\", accuracy_score(Y_test, modelo_rf.predict(X_test)))\n",
    "print(\"Logistic Regression Accuracy:\", accuracy_score(Y_test, modelo_log.predict(X_test)))\n",
    "\n",
    "# Guardar modelos\n",
    "joblib.dump(modelo_rf, \"modelo_randomforest.pkl\")\n",
    "joblib.dump(modelo_log, \"modelo_logistico.pkl\")\n"
   ]
  },
  {
   "cell_type": "code",
   "execution_count": 37,
   "id": "cdafc4a8",
   "metadata": {},
   "outputs": [
    {
     "name": "stdout",
     "output_type": "stream",
     "text": [
      "['Cuenca' nan 'Ambato' 'Quito' 'Guayaquil']\n",
      "   ID  Edad     Genero  Ciudad  Ingresos_Mensuales  Frecuencia_Compra  \\\n",
      "0   1   NaN  Masculino  Cuenca              2946.0                  3   \n",
      "1   2   NaN        NaN     nan              1340.0                  8   \n",
      "2   3   NaN   Femenino  Ambato              1052.0                  8   \n",
      "3   4   NaN        NaN   Quito              2321.0                  2   \n",
      "4   5  35.0        NaN   Quito              1522.0                  2   \n",
      "\n",
      "   Ultima_Compra_dias  Compra  Ciudad_Ambato  Ciudad_Cuenca  Ciudad_Guayaquil  \\\n",
      "0                 103       0            0.0            1.0               0.0   \n",
      "1                  72       0            0.0            0.0               0.0   \n",
      "2                 173       1            1.0            0.0               0.0   \n",
      "3                   4       0            0.0            0.0               0.0   \n",
      "4                 166       1            0.0            0.0               0.0   \n",
      "\n",
      "   Ciudad_Quito  Ciudad_nan  \n",
      "0           0.0         0.0  \n",
      "1           0.0         1.0  \n",
      "2           0.0         0.0  \n",
      "3           1.0         0.0  \n",
      "4           1.0         0.0  \n"
     ]
    },
    {
     "name": "stderr",
     "output_type": "stream",
     "text": [
      "C:\\Users\\User\\AppData\\Local\\Temp\\ipykernel_13944\\3853752562.py:5: FutureWarning: A value is trying to be set on a copy of a DataFrame or Series through chained assignment using an inplace method.\n",
      "The behavior will change in pandas 3.0. This inplace method will never work because the intermediate object on which we are setting values always behaves as a copy.\n",
      "\n",
      "For example, when doing 'df[col].method(value, inplace=True)', try using 'df.method({col: value}, inplace=True)' or df[col] = df[col].method(value) instead, to perform the operation inplace on the original object.\n",
      "\n",
      "\n",
      "  df[\"Ciudad\"].replace(\"sin info\", \"Desconocido\", inplace=True)  # O elimínala si prefieres\n"
     ]
    }
   ],
   "source": [
    "# Verificar valores únicos antes de codificar\n",
    "print(df[\"Ciudad\"].unique())  # Verifica si \"sin info\" aparece como categoría\n",
    "\n",
    "# Opcional: reemplazar \"sin info\" por una categoría válida\n",
    "df[\"Ciudad\"].replace(\"sin info\", \"Desconocido\", inplace=True)  # O elimínala si prefieres\n",
    "\n",
    "# Convertir Ciudad a tipo string (por si acaso)\n",
    "df[\"Ciudad\"] = df[\"Ciudad\"].astype(str)\n",
    "\n",
    "# Codificar la variable de entrada (Ciudad) con OneHotEncoder\n",
    "encoder_ciudad = OneHotEncoder(sparse_output=False, handle_unknown=\"ignore\")\n",
    "ciudad_encoded = encoder_ciudad.fit_transform(df[[\"Ciudad\"]])\n",
    "\n",
    "# Convertir a DataFrame y unirlo con el original\n",
    "ciudad_df = pd.DataFrame(ciudad_encoded, columns=encoder_ciudad.get_feature_names_out([\"Ciudad\"]))\n",
    "df = pd.concat([df, ciudad_df], axis=1)\n",
    "\n",
    "# Verificar columnas generadas\n",
    "print(df.head())"
   ]
  },
  {
   "cell_type": "code",
   "execution_count": 39,
   "id": "5207d6c9",
   "metadata": {},
   "outputs": [],
   "source": [
    "import pandas as pd  # Para manipulación de datos\n",
    "from sklearn.preprocessing import LabelEncoder, OneHotEncoder  # Para codificación de variables\n",
    "from sklearn.model_selection import train_test_split  # Para dividir los datos en entrenamiento y prueba\n",
    "from sklearn.neighbors import KNeighborsClassifier  # Modelo KNN\n",
    "from sklearn.metrics import accuracy_score  # Para evaluar la precisión del modelo"
   ]
  },
  {
   "cell_type": "code",
   "execution_count": 40,
   "id": "f639e874",
   "metadata": {},
   "outputs": [
    {
     "name": "stdout",
     "output_type": "stream",
     "text": [
      "Precisión del modelo KNN: 0.32\n"
     ]
    }
   ],
   "source": [
    "# Codificar la variable objetivo (Género)\n",
    "encoder_genero = LabelEncoder()\n",
    "df[\"Genero_Codificado\"] = encoder_genero.fit_transform(df[\"Genero\"])  # Femenino = 0, Masculino = 1, Desconocido = 2\n",
    "\n",
    "# Codificar la variable de entrada (Ciudad) con OneHotEncoder\n",
    "encoder_ciudad = OneHotEncoder(sparse_output=False, handle_unknown=\"ignore\")\n",
    "ciudad_encoded = encoder_ciudad.fit_transform(df[[\"Ciudad\"]])\n",
    "\n",
    "# Convertir a DataFrame y unirlo con el original\n",
    "ciudad_df = pd.DataFrame(ciudad_encoded, columns=encoder_ciudad.get_feature_names_out([\"Ciudad\"]))\n",
    "df = pd.concat([df, ciudad_df], axis=1)\n",
    "\n",
    "# Definir X e Y\n",
    "X = df[ciudad_df.columns]  # Variables predictoras\n",
    "Y = df[\"Genero_Codificado\"]  # Variable objetivo\n",
    "\n",
    "# Dividir datos en entrenamiento y prueba (80% - 20%)\n",
    "X_train, X_test, Y_train, Y_test = train_test_split(X, Y, test_size=0.2, random_state=42)\n",
    "\n",
    "# Inicializar modelo KNN con k=5 vecinos\n",
    "modelo_knn = KNeighborsClassifier(n_neighbors=5)\n",
    "modelo_knn.fit(X_train, Y_train)\n",
    "\n",
    "# Predicción\n",
    "predicciones = modelo_knn.predict(X_test)\n",
    "\n",
    "# Evaluar precisión\n",
    "precision = accuracy_score(Y_test, predicciones)\n",
    "print(f\"Precisión del modelo KNN: {precision:.2f}\")"
   ]
  },
  {
   "cell_type": "code",
   "execution_count": 41,
   "id": "195733c4",
   "metadata": {},
   "outputs": [
    {
     "name": "stdout",
     "output_type": "stream",
     "text": [
      "Modelos cargados correctamente.\n"
     ]
    }
   ],
   "source": [
    "# Guardar el modelo KNN\n",
    "joblib.dump(modelo_knn, \"modelo_knn.pkl\")\n",
    "\n",
    "print(\"Modelos cargados correctamente.\")"
   ]
  },
  {
   "cell_type": "code",
   "execution_count": 46,
   "id": "9c4a933d",
   "metadata": {},
   "outputs": [
    {
     "name": "stdout",
     "output_type": "stream",
     "text": [
      "Precisión del modelo KNN: 0.45\n",
      "Pipeline y codificador de género guardados exitosamente.\n"
     ]
    }
   ],
   "source": [
    "import pandas as pd\n",
    "from sklearn.model_selection import train_test_split\n",
    "from sklearn.preprocessing import OneHotEncoder, LabelEncoder, StandardScaler\n",
    "from sklearn.pipeline import Pipeline\n",
    "from sklearn.compose import ColumnTransformer\n",
    "from sklearn.neighbors import KNeighborsClassifier\n",
    "from sklearn.metrics import accuracy_score\n",
    "import joblib\n",
    "\n",
    "# Cargar datos\n",
    "df = pd.read_csv(\"clientes_preprocesamiento.csv\")\n",
    "\n",
    "# Eliminar filas con valores nulos\n",
    "df.dropna(inplace=True)\n",
    "\n",
    "# Verificar columna 'Ciudad'\n",
    "if \"Ciudad\" not in df.columns:\n",
    "    raise KeyError(\"La columna 'Ciudad' no se encuentra en el DataFrame\")\n",
    "\n",
    "# Codificar la variable objetivo (Género)\n",
    "encoder_genero = LabelEncoder()\n",
    "df[\"Genero_Codificado\"] = encoder_genero.fit_transform(df[\"Genero\"])  # Femenino = 0, Masculino = 1\n",
    "\n",
    "# Separar X e Y\n",
    "X = df.drop(columns=[\"Genero\", \"Genero_Codificado\"])\n",
    "y = df[\"Genero_Codificado\"]\n",
    "\n",
    "# Columnas categóricas y numéricas\n",
    "columnas_categoricas = [\"Ciudad\"]\n",
    "columnas_numericas = X.select_dtypes(include=[\"int64\", \"float64\"]).columns.tolist()\n",
    "\n",
    "# Preprocesador: codificar y escalar\n",
    "preprocesador = ColumnTransformer(transformers=[\n",
    "    (\"cat\", OneHotEncoder(handle_unknown=\"ignore\"), columnas_categoricas),\n",
    "    (\"num\", StandardScaler(), columnas_numericas)\n",
    "])\n",
    "\n",
    "# Pipeline completo\n",
    "pipeline = Pipeline(steps=[\n",
    "    (\"preprocesamiento\", preprocesador),\n",
    "    (\"clasificador\", KNeighborsClassifier(n_neighbors=5))\n",
    "])\n",
    "\n",
    "# División de datos\n",
    "X_train, X_test, y_train, y_test = train_test_split(X, y, test_size=0.2, random_state=42)\n",
    "\n",
    "# Entrenar pipeline\n",
    "pipeline.fit(X_train, y_train)\n",
    "\n",
    "# Evaluación\n",
    "predicciones = pipeline.predict(X_test)\n",
    "precision = accuracy_score(y_test, predicciones)\n",
    "print(f\"Precisión del modelo KNN: {precision:.2f}\")\n",
    "\n",
    "# Guardar pipeline y encoder del género\n",
    "joblib.dump(pipeline, \"pipeline_knn.pkl\")\n",
    "joblib.dump(encoder_genero, \"encoder_genero.pkl\")\n",
    "\n",
    "print(\"Pipeline y codificador de género guardados exitosamente.\")\n"
   ]
  },
  {
   "cell_type": "code",
   "execution_count": 48,
   "id": "892e179d",
   "metadata": {},
   "outputs": [
    {
     "name": "stdout",
     "output_type": "stream",
     "text": [
      "Precisión del modelo KNN: 0.48\n",
      "Modelo y transformadores guardados exitosamente.\n"
     ]
    }
   ],
   "source": [
    "import pandas as pd\n",
    "from sklearn.model_selection import train_test_split\n",
    "from sklearn.preprocessing import OneHotEncoder, LabelEncoder, StandardScaler\n",
    "from sklearn.neighbors import KNeighborsClassifier\n",
    "from sklearn.metrics import accuracy_score\n",
    "import joblib\n",
    "\n",
    "# Cargar datos\n",
    "df = pd.read_csv(\"clientes_preprocesamiento.csv\")\n",
    "\n",
    "# Eliminar filas con valores nulos\n",
    "df.dropna(inplace=True)\n",
    "\n",
    "# Verificar columna 'Ciudad'\n",
    "if \"Ciudad\" not in df.columns:\n",
    "    raise KeyError(\"La columna 'Ciudad' no se encuentra en el DataFrame\")\n",
    "\n",
    "# Codificar la variable objetivo (Género)\n",
    "encoder_genero = LabelEncoder()\n",
    "df[\"Genero_Codificado\"] = encoder_genero.fit_transform(df[\"Genero\"])  # Femenino = 0, Masculino = 1\n",
    "\n",
    "# Codificar la columna \"Ciudad\" con OneHotEncoder\n",
    "encoder_ciudad = OneHotEncoder(sparse_output=False, handle_unknown=\"ignore\")\n",
    "ciudad_encoded = encoder_ciudad.fit_transform(df[[\"Ciudad\"]])\n",
    "ciudad_df = pd.DataFrame(ciudad_encoded, columns=encoder_ciudad.get_feature_names_out([\"Ciudad\"]))\n",
    "df = pd.concat([df.reset_index(drop=True), ciudad_df], axis=1)\n",
    "df.drop(columns=[\"Ciudad\"], inplace=True)\n",
    "\n",
    "# **Quitar las columnas ID, Compra y Edad**\n",
    "columnas_a_eliminar = [\"ID\", \"Compra\", \"Edad\", \"Genero\", \"Genero_Codificado\"]\n",
    "X = df.drop(columns=columnas_a_eliminar)\n",
    "Y = df[\"Genero_Codificado\"]\n",
    "\n",
    "# Dividir datos\n",
    "X_train, X_test, Y_train, Y_test = train_test_split(X, Y, test_size=0.2, random_state=42)\n",
    "\n",
    "# Escalado\n",
    "scaler = StandardScaler()\n",
    "X_train_scaled = scaler.fit_transform(X_train)\n",
    "X_test_scaled = scaler.transform(X_test)\n",
    "\n",
    "# Modelo KNN\n",
    "modelo_knn = KNeighborsClassifier(n_neighbors=5)\n",
    "modelo_knn.fit(X_train_scaled, Y_train)\n",
    "\n",
    "# Evaluación\n",
    "predicciones = modelo_knn.predict(X_test_scaled)\n",
    "precision = accuracy_score(Y_test, predicciones)\n",
    "print(f\"Precisión del modelo KNN: {precision:.2f}\")\n",
    "\n",
    "# Guardar modelo y transformadores\n",
    "joblib.dump(modelo_knn, \"modelo_knn.pkl\")\n",
    "joblib.dump(encoder_ciudad, \"encoder_ciudad.pkl\")\n",
    "joblib.dump(encoder_genero, \"encoder_genero.pkl\")\n",
    "joblib.dump(scaler, \"scaler.pkl\")\n",
    "\n",
    "print(\"Modelo y transformadores guardados exitosamente.\")\n"
   ]
  },
  {
   "cell_type": "code",
   "execution_count": 51,
   "id": "af5049ad",
   "metadata": {},
   "outputs": [
    {
     "name": "stdout",
     "output_type": "stream",
     "text": [
      "Modelo de regresión guardado exitosamente como modelo_regresion.pkl\n"
     ]
    }
   ],
   "source": [
    "import joblib\n",
    "import pandas as pd\n",
    "from sklearn.model_selection import train_test_split\n",
    "from sklearn.linear_model import LinearRegression\n",
    "from sklearn.preprocessing import LabelEncoder\n",
    "\n",
    "# Cargar datos\n",
    "df = pd.read_csv(\"clientes_preprocesamiento.csv\")\n",
    "\n",
    "# Eliminar filas con valores nulos en las columnas que usarás\n",
    "df.dropna(subset=[\"Ingresos_Mensuales\", \"Frecuencia_Compra\", \"Genero\"], inplace=True)\n",
    "\n",
    "# Codificar la variable objetivo \"Genero\"\n",
    "encoder_genero = LabelEncoder()\n",
    "df[\"Genero_Codificado\"] = encoder_genero.fit_transform(df[\"Genero\"])  # Femenino=0, Masculino=1\n",
    "\n",
    "# Definir variables predictoras y objetivo\n",
    "X = df[[\"Ingresos_Mensuales\", \"Frecuencia_Compra\"]]\n",
    "Y = df[\"Genero_Codificado\"]\n",
    "\n",
    "# Dividir en entrenamiento y prueba\n",
    "X_train, X_test, Y_train, Y_test = train_test_split(X, Y, test_size=0.2, random_state=42)\n",
    "\n",
    "# Entrenar el modelo de regresión lineal\n",
    "modelo_regresion = LinearRegression()\n",
    "modelo_regresion.fit(X_train, Y_train)\n",
    "\n",
    "# Guardar el modelo y el encoder\n",
    "joblib.dump(modelo_regresion, \"modelo_regresion.pkl\")\n",
    "joblib.dump(encoder_genero, \"encoder_genero.pkl\")\n",
    "\n",
    "print(\"Modelo de regresión guardado exitosamente como modelo_regresion.pkl\")\n"
   ]
  }
 ],
 "metadata": {
  "kernelspec": {
   "display_name": "Python 3",
   "language": "python",
   "name": "python3"
  },
  "language_info": {
   "codemirror_mode": {
    "name": "ipython",
    "version": 3
   },
   "file_extension": ".py",
   "mimetype": "text/x-python",
   "name": "python",
   "nbconvert_exporter": "python",
   "pygments_lexer": "ipython3",
   "version": "3.12.6"
  }
 },
 "nbformat": 4,
 "nbformat_minor": 5
}
